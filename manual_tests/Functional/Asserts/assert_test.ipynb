{
 "cells": [
  {
   "cell_type": "code",
   "execution_count": 2,
   "metadata": {
    "scrolled": true
   },
   "outputs": [
    {
     "name": "stdout",
     "output_type": "stream",
     "text": [
      "Connected to \"/dev/cu.usbserial-D308N88B\".\n",
      "Device setup.\n"
     ]
    }
   ],
   "source": [
    "from pyluos import Device\n",
    "\n",
    "r = Device('')\n",
    "print(r.nodes)"
   ]
  },
  {
   "cell_type": "code",
   "execution_count": 1,
   "metadata": {
    "scrolled": true
   },
   "outputs": [
    {
     "name": "stdout",
     "output_type": "stream",
     "text": [
      "Connected to \"/dev/cu.usbserial-D308N88V\".\n",
      "Sending detection signal.\n",
      "Waiting for routing table...\n",
      "Device setup.\n",
      "  ┏━━━━━━━━━━━━━━━━━━━━━━━━━━━━━━━━━━━━━━━━━━━━━━━━━━┓\n",
      "  ┃  ╭node 1            /!\\ Not certified            ┃\n",
      "  ┃  │  Type                Alias               ID   ┃\n",
      "  ┃  ├> Gate                gate                1    ┃\n",
      "  ┃  ╰> Pipe                Pipe                2    ┃\n",
      "╔>┗━━━━━━━━━━━━━━━━━━━━━━━━━━━━━━━━━━━━━━━━━━━━━━━━━━┛\n",
      "║     ┏━━━━━━━━━━━━━━━━━━━━━━━━━━━━━━━━━━━━━━━━━━━━━━━━━━┓\n",
      "╚══ 1>┃1 ╭node 2            /!\\ Not certified            ┃\n",
      "      ┃  │  Type                Alias               ID   ┃\n",
      "      ┃  ├> State               button              3    ┃\n",
      "      ┃  ╰> Unknown             assert_app          4    ┃\n",
      "    ╔>┗━━━━━━━━━━━━━━━━━━━━━━━━━━━━━━━━━━━━━━━━━━━━━━━━━━┛\n",
      "    ║     ┏━━━━━━━━━━━━━━━━━━━━━━━━━━━━━━━━━━━━━━━━━━━━━━━━━━┓\n",
      "    ╚══ 0>┃0 ╭node 3            /!\\ Not certified            ┃\n",
      "          ┃  │  Type                Alias               ID   ┃\n",
      "          ┃  ├> Unknown             inspector           5    ┃\n",
      "          ┃  ╰> Pipe                pipe_insp           6    ┃\n",
      "         >┗━━━━━━━━━━━━━━━━━━━━━━━━━━━━━━━━━━━━━━━━━━━━━━━━━━┛\n",
      "\n",
      "Msg read failed: Expecting value: line 1 column 23 (char 22)\n",
      "Msg read failed: Expecting value: line 1 column 23 (char 22)\n",
      "Msg read failed: Expecting value: line 1 column 23 (char 22)\n",
      "Msg read failed: Expecting value: line 1 column 23 (char 22)\n",
      "Msg read failed: Expecting value: line 1 column 23 (char 22)\n",
      "Msg read failed: Expecting value: line 1 column 23 (char 22)\n"
     ]
    },
    {
     "name": "stderr",
     "output_type": "stream",
     "text": [
      "Exception in thread Thread-5:\n",
      "Traceback (most recent call last):\n",
      "  File \"/usr/local/Cellar/python@3.9/3.9.5/Frameworks/Python.framework/Versions/3.9/lib/python3.9/threading.py\", line 954, in _bootstrap_inner\n",
      "    self.run()\n",
      "  File \"/usr/local/Cellar/python@3.9/3.9.5/Frameworks/Python.framework/Versions/3.9/lib/python3.9/threading.py\", line 892, in run\n",
      "    self._target(*self._args, **self._kwargs)\n",
      "  File \"/Users/vik/Downloads/../Desktop/Luos/Pyluos/pyluos/device.py\", line 258, in _poll_and_up\n",
      "    state = self._poll_once()\n",
      "  File \"/Users/vik/Downloads/../Desktop/Luos/Pyluos/pyluos/device.py\", line 251, in _poll_once\n",
      "    self._state = self._io.read()\n",
      "  File \"/Users/vik/Downloads/../Desktop/Luos/Pyluos/pyluos/io/__init__.py\", line 25, in read\n",
      "    return self.read(trials - 1)\n",
      "  File \"/Users/vik/Downloads/../Desktop/Luos/Pyluos/pyluos/io/__init__.py\", line 25, in read\n",
      "    return self.read(trials - 1)\n",
      "  File \"/Users/vik/Downloads/../Desktop/Luos/Pyluos/pyluos/io/__init__.py\", line 25, in read\n",
      "    return self.read(trials - 1)\n",
      "  [Previous line repeated 2 more times]\n",
      "  File \"/Users/vik/Downloads/../Desktop/Luos/Pyluos/pyluos/io/__init__.py\", line 23, in read\n",
      "    raise e\n",
      "  File \"/Users/vik/Downloads/../Desktop/Luos/Pyluos/pyluos/io/__init__.py\", line 19, in read\n",
      "    return self.loads(data)\n",
      "  File \"/Users/vik/Downloads/../Desktop/Luos/Pyluos/pyluos/io/__init__.py\", line 39, in loads\n",
      "    return json.loads(data)\n",
      "  File \"/usr/local/Cellar/python@3.9/3.9.5/Frameworks/Python.framework/Versions/3.9/lib/python3.9/json/__init__.py\", line 346, in loads\n",
      "    return _default_decoder.decode(s)\n",
      "  File \"/usr/local/Cellar/python@3.9/3.9.5/Frameworks/Python.framework/Versions/3.9/lib/python3.9/json/decoder.py\", line 337, in decode\n",
      "    obj, end = self.raw_decode(s, idx=_w(s, 0).end())\n",
      "  File \"/usr/local/Cellar/python@3.9/3.9.5/Frameworks/Python.framework/Versions/3.9/lib/python3.9/json/decoder.py\", line 355, in raw_decode\n",
      "    raise JSONDecodeError(\"Expecting value\", s, err.value) from None\n",
      "json.decoder.JSONDecodeError: Expecting value: line 1 column 23 (char 22)\n"
     ]
    }
   ],
   "source": [
    "from pyluos import Sniffer\n",
    "sniffer = Sniffer('') #192.168.1.42"
   ]
  },
  {
   "cell_type": "markdown",
   "metadata": {},
   "source": []
  },
  {
   "cell_type": "code",
   "execution_count": 10,
   "metadata": {},
   "outputs": [],
   "source": [
    "sniffer.get_ass"
   ]
  },
  {
   "cell_type": "code",
   "execution_count": 9,
   "metadata": {},
   "outputs": [],
   "source": [
    "sniffer.stop"
   ]
  },
  {
   "cell_type": "code",
   "execution_count": 8,
   "metadata": {},
   "outputs": [],
   "source": [
    "sniffer.start"
   ]
  },
  {
   "cell_type": "code",
   "execution_count": null,
   "metadata": {},
   "outputs": [],
   "source": []
  }
 ],
 "metadata": {
  "kernelspec": {
   "display_name": "Python 3",
   "language": "python",
   "name": "python3"
  },
  "language_info": {
   "codemirror_mode": {
    "name": "ipython",
    "version": 3
   },
   "file_extension": ".py",
   "mimetype": "text/x-python",
   "name": "python",
   "nbconvert_exporter": "python",
   "pygments_lexer": "ipython3",
   "version": "3.9.5"
  }
 },
 "nbformat": 4,
 "nbformat_minor": 2
}
