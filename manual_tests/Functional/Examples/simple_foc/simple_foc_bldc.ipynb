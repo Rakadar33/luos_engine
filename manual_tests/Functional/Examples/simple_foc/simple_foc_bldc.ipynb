{
 "cells": [
  {
   "cell_type": "code",
   "execution_count": 1,
   "id": "ancient-kinase",
   "metadata": {},
   "outputs": [
    {
     "name": "stdout",
     "output_type": "stream",
     "text": [
      "  ┏━━━━━━━━━━━━━━━━━━━━━━━━━━━━━━━━━━━━━━━━━━━━━━━━━━┓\n",
      "  ┃  ╭node 1            /!\\ Not certified            ┃\n",
      "  ┃  │  Type                Alias               ID   ┃\n",
      "  ┃  ├> Gate                gate                1    ┃\n",
      "  ┃  ╰> Pipe                Pipe                2    ┃\n",
      "╔>┗━━━━━━━━━━━━━━━━━━━━━━━━━━━━━━━━━━━━━━━━━━━━━━━━━━┛\n",
      "║     ┏━━━━━━━━━━━━━━━━━━━━━━━━━━━━━━━━━━━━━━━━━━━━━━━━━━┓\n",
      "╚══ 0>┃0 ╭node 2            /!\\ Not certified            ┃\n",
      "      ┃  │  Type                Alias               ID   ┃\n",
      "      ┃  ╰> ServoMotor          FOC_motor           3    ┃\n",
      "     >┗━━━━━━━━━━━━━━━━━━━━━━━━━━━━━━━━━━━━━━━━━━━━━━━━━━┛\n",
      "\n"
     ]
    }
   ],
   "source": [
    "from pyluos import Device\n",
    "import time\n",
    "import numpy as np\n",
    "\n",
    "dev = Device(\"COM24\")\n",
    "\n",
    "print(dev.nodes)"
   ]
  },
  {
   "cell_type": "code",
   "execution_count": 5,
   "id": "central-shareware",
   "metadata": {},
   "outputs": [
    {
     "name": "stdout",
     "output_type": "stream",
     "text": [
      "465.075\n"
     ]
    }
   ],
   "source": [
    "dev.FOC_motor.rot_position_mode = True\n",
    "dev.FOC_motor.rot_speed_mode = False\n",
    "dev.FOC_motor.target_rot_position = 180.0\n",
    "\n",
    "print(dev.FOC_motor.rot_position)"
   ]
  },
  {
   "cell_type": "code",
   "execution_count": 3,
   "id": "b40d996c",
   "metadata": {},
   "outputs": [
    {
     "name": "stdout",
     "output_type": "stream",
     "text": [
      "179.94\n"
     ]
    }
   ],
   "source": [
    "dev.FOC_motor.rot_position_mode = True\n",
    "dev.FOC_motor.rot_speed_mode = False\n",
    "\n",
    "dev.FOC_motor.target_rot_position = 0.0\n",
    "\n",
    "print(dev.FOC_motor.rot_position)"
   ]
  },
  {
   "cell_type": "code",
   "execution_count": 4,
   "id": "heavy-consent",
   "metadata": {},
   "outputs": [],
   "source": [
    "dev.FOC_motor.rot_position_mode = False\n",
    "dev.FOC_motor.rot_speed_mode = True\n",
    "time.sleep(0.1)\n",
    "dev.FOC_motor.target_rot_speed = 200.0"
   ]
  },
  {
   "cell_type": "code",
   "execution_count": 26,
   "id": "2496c6f0",
   "metadata": {},
   "outputs": [
    {
     "name": "stdout",
     "output_type": "stream",
     "text": [
      "-116.147\n"
     ]
    }
   ],
   "source": [
    "print(dev.FOC_motor.rot_speed)"
   ]
  },
  {
   "cell_type": "code",
   "execution_count": 36,
   "id": "c95f5c5f",
   "metadata": {},
   "outputs": [],
   "source": [
    "######################### Trajectory test ##########################\n",
    "dev.FOC_motor.rot_position_mode = True\n",
    "dev.FOC_motor.rot_speed_mode = False\n",
    "\n",
    "# create a smooth trajectory\n",
    "moveduration = 2\n",
    "traj = np.linspace(0, 360, num=int(moveduration*dev.FOC_motor.sampling_freq), endpoint=True)"
   ]
  },
  {
   "cell_type": "code",
   "execution_count": 37,
   "id": "3e89aa44",
   "metadata": {},
   "outputs": [],
   "source": [
    "#send traj to motor\n",
    "dev.FOC_motor.target_rot_position = traj"
   ]
  },
  {
   "cell_type": "code",
   "execution_count": 38,
   "id": "da0c526d",
   "metadata": {},
   "outputs": [],
   "source": [
    "######################### Trajectory test ##########################\n",
    "dev.FOC_motor.rot_position_mode = True\n",
    "dev.FOC_motor.rot_speed_mode = False\n",
    "\n",
    "# create a smooth trajectory\n",
    "moveduration = 2\n",
    "traj = np.linspace(360, 0, num=int(moveduration*dev.FOC_motor.sampling_freq), endpoint=True)"
   ]
  },
  {
   "cell_type": "code",
   "execution_count": 39,
   "id": "7bf06682",
   "metadata": {},
   "outputs": [],
   "source": [
    "#send traj to motor\n",
    "dev.FOC_motor.target_rot_position = traj"
   ]
  },
  {
   "cell_type": "code",
   "execution_count": 35,
   "id": "eeb4c861",
   "metadata": {},
   "outputs": [
    {
     "name": "stdout",
     "output_type": "stream",
     "text": [
      "-0.002\n"
     ]
    }
   ],
   "source": [
    "print(dev.FOC_motor.rot_position)"
   ]
  },
  {
   "cell_type": "code",
   "execution_count": null,
   "id": "7e83c914",
   "metadata": {},
   "outputs": [],
   "source": []
  }
 ],
 "metadata": {
  "kernelspec": {
   "display_name": "Python 3",
   "language": "python",
   "name": "python3"
  },
  "language_info": {
   "codemirror_mode": {
    "name": "ipython",
    "version": 3
   },
   "file_extension": ".py",
   "mimetype": "text/x-python",
   "name": "python",
   "nbconvert_exporter": "python",
   "pygments_lexer": "ipython3",
   "version": "3.9.4"
  }
 },
 "nbformat": 4,
 "nbformat_minor": 5
}
