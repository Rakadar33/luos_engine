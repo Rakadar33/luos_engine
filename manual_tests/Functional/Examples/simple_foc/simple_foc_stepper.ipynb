{
 "cells": [
  {
   "cell_type": "code",
   "execution_count": 1,
   "id": "ancient-kinase",
   "metadata": {},
   "outputs": [
    {
     "name": "stdout",
     "output_type": "stream",
     "text": [
      "  ┏━━━━━━━━━━━━━━━━━━━━━━━━━━━━━━━━━━━━━━━━━━━━━━━━━━┓\n",
      "  ┃  ╭node 1            /!\\ Not certified            ┃\n",
      "  ┃  │  Type                Alias               ID   ┃\n",
      "  ┃  ├> Gate                gate                1    ┃\n",
      "  ┃  ╰> Pipe                Pipe                2    ┃\n",
      "╔>┗━━━━━━━━━━━━━━━━━━━━━━━━━━━━━━━━━━━━━━━━━━━━━━━━━━┛\n",
      "║     ┏━━━━━━━━━━━━━━━━━━━━━━━━━━━━━━━━━━━━━━━━━━━━━━━━━━┓\n",
      "╚══ 0>┃0 ╭node 2            /!\\ Not certified            ┃\n",
      "      ┃  │  Type                Alias               ID   ┃\n",
      "      ┃  ╰> ServoMotor          Stepper_FOC         3    ┃\n",
      "     >┗━━━━━━━━━━━━━━━━━━━━━━━━━━━━━━━━━━━━━━━━━━━━━━━━━━┛\n",
      "\n"
     ]
    }
   ],
   "source": [
    "from pyluos import Device\n",
    "import time\n",
    "import numpy as np\n",
    "\n",
    "dev = Device(\"COM24\")\n",
    "\n",
    "print(dev.nodes)"
   ]
  },
  {
   "cell_type": "code",
   "execution_count": 10,
   "id": "central-shareware",
   "metadata": {},
   "outputs": [
    {
     "name": "stdout",
     "output_type": "stream",
     "text": [
      "0.0\n"
     ]
    }
   ],
   "source": [
    "dev.Stepper_FOC.rot_position_mode = True\n",
    "dev.Stepper_FOC.rot_speed_mode = False\n",
    "dev.Stepper_FOC.target_rot_position = 270.0\n",
    "\n",
    "print(dev.Stepper_FOC.rot_position)"
   ]
  },
  {
   "cell_type": "code",
   "execution_count": 8,
   "id": "b40d996c",
   "metadata": {},
   "outputs": [
    {
     "name": "stdout",
     "output_type": "stream",
     "text": [
      "270.0\n"
     ]
    }
   ],
   "source": [
    "dev.Stepper_FOC.rot_position_mode = True\n",
    "dev.Stepper_FOC.rot_speed_mode = False\n",
    "\n",
    "dev.Stepper_FOC.target_rot_position = 0.0\n",
    "\n",
    "print(dev.Stepper_FOC.rot_position)"
   ]
  },
  {
   "cell_type": "code",
   "execution_count": 9,
   "id": "heavy-consent",
   "metadata": {},
   "outputs": [],
   "source": [
    "dev.Stepper_FOC.rot_position_mode = False\n",
    "dev.Stepper_FOC.rot_speed_mode = True\n",
    "time.sleep(0.1)\n",
    "dev.Stepper_FOC.target_rot_speed = 600.0"
   ]
  },
  {
   "cell_type": "code",
   "execution_count": 24,
   "id": "c95f5c5f",
   "metadata": {},
   "outputs": [],
   "source": [
    "######################### Trajectory test ##########################\n",
    "dev.Stepper_FOC.rot_position_mode = True\n",
    "dev.Stepper_FOC.rot_speed_mode = False\n",
    "\n",
    "# create a smooth trajectory\n",
    "moveduration = 2\n",
    "traj = np.linspace(0, 360, num=int(moveduration*dev.Stepper_FOC.sampling_freq), endpoint=True)"
   ]
  },
  {
   "cell_type": "code",
   "execution_count": 25,
   "id": "3e89aa44",
   "metadata": {},
   "outputs": [],
   "source": [
    "#send traj to motor\n",
    "dev.Stepper_FOC.target_rot_position = traj"
   ]
  },
  {
   "cell_type": "code",
   "execution_count": 26,
   "id": "da0c526d",
   "metadata": {},
   "outputs": [],
   "source": [
    "######################### Trajectory test ##########################\n",
    "dev.Stepper_FOC.rot_position_mode = True\n",
    "dev.Stepper_FOC.rot_speed_mode = False\n",
    "\n",
    "# create a smooth trajectory\n",
    "moveduration = 2\n",
    "traj = np.linspace(360, 0, num=int(moveduration*dev.Stepper_FOC.sampling_freq), endpoint=True)"
   ]
  },
  {
   "cell_type": "code",
   "execution_count": 27,
   "id": "7bf06682",
   "metadata": {},
   "outputs": [],
   "source": [
    "#send traj to motor\n",
    "dev.Stepper_FOC.target_rot_position = traj"
   ]
  },
  {
   "cell_type": "code",
   "execution_count": 23,
   "id": "eeb4c861",
   "metadata": {},
   "outputs": [
    {
     "name": "stdout",
     "output_type": "stream",
     "text": [
      "360.0\n"
     ]
    }
   ],
   "source": [
    "print(dev.Stepper_FOC.rot_position)"
   ]
  },
  {
   "cell_type": "code",
   "execution_count": null,
   "id": "7e83c914",
   "metadata": {},
   "outputs": [],
   "source": []
  }
 ],
 "metadata": {
  "kernelspec": {
   "display_name": "Python 3",
   "language": "python",
   "name": "python3"
  },
  "language_info": {
   "codemirror_mode": {
    "name": "ipython",
    "version": 3
   },
   "file_extension": ".py",
   "mimetype": "text/x-python",
   "name": "python",
   "nbconvert_exporter": "python",
   "pygments_lexer": "ipython3",
   "version": "3.9.4"
  }
 },
 "nbformat": 4,
 "nbformat_minor": 5
}
