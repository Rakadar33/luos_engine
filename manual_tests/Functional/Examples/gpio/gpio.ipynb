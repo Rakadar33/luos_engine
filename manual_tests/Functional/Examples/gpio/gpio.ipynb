{
 "metadata": {
  "language_info": {
   "codemirror_mode": {
    "name": "ipython",
    "version": 3
   },
   "file_extension": ".py",
   "mimetype": "text/x-python",
   "name": "python",
   "nbconvert_exporter": "python",
   "pygments_lexer": "ipython3",
   "version": "3.9.4"
  },
  "orig_nbformat": 2,
  "kernelspec": {
   "name": "python3",
   "display_name": "Python 3.9.4 64-bit"
  },
  "metadata": {
   "interpreter": {
    "hash": "696f1b3f4ec608302c0ac7d485b61cbe5cb6c2ed50640f9120220e665ff62020"
   }
  },
  "interpreter": {
   "hash": "696f1b3f4ec608302c0ac7d485b61cbe5cb6c2ed50640f9120220e665ff62020"
  }
 },
 "nbformat": 4,
 "nbformat_minor": 2,
 "cells": [
  {
   "cell_type": "code",
   "execution_count": 1,
   "source": [
    "from pyluos import Device\r\n",
    "\r\n",
    "dev = Device(\"COM6\")\r\n",
    "\r\n",
    "print(dev.nodes)"
   ],
   "outputs": [
    {
     "output_type": "stream",
     "name": "stdout",
     "text": [
      "  ┏━━━━━━━━━━━━━━━━━━━━━━━━━━━━━━━━━━━━━━━━━━━━━━━━━━┓\n",
      "  ┃  ╭node 1            /!\\ Not certified            ┃\n",
      "  ┃  │  Type                Alias               ID   ┃\n",
      "  ┃  ├> Gate                gate                1    ┃\n",
      "  ┃  ╰> Pipe                Pipe                2    ┃\n",
      "╔>┗━━━━━━━━━━━━━━━━━━━━━━━━━━━━━━━━━━━━━━━━━━━━━━━━━━┛\n",
      "║     ┏━━━━━━━━━━━━━━━━━━━━━━━━━━━━━━━━━━━━━━━━━━━━━━━━━━┓\n",
      "╚══ 1>┃1 ╭node 2            /!\\ Not certified            ┃\n",
      "      ┃  │  Type                Alias               ID   ┃\n",
      "      ┃  ├> Voltage             analog_read_P1      3    ┃\n",
      "      ┃  ├> Voltage             analog_read_P7      4    ┃\n",
      "      ┃  ├> Voltage             analog_read_P8      5    ┃\n",
      "      ┃  ├> Voltage             analog_read_P9      6    ┃\n",
      "      ┃  ├> State               digit_read_P5       7    ┃\n",
      "      ┃  ├> State               digit_read_P6       8    ┃\n",
      "      ┃  ├> State               digit_write_P2      9    ┃\n",
      "      ┃  ├> State               digit_write_P3      10   ┃\n",
      "      ┃  ╰> State               digit_write_P4      11   ┃\n",
      "     >┗━━━━━━━━━━━━━━━━━━━━━━━━━━━━━━━━━━━━━━━━━━━━━━━━━━┛\n",
      "\n"
     ]
    }
   ],
   "metadata": {}
  },
  {
   "cell_type": "code",
   "execution_count": 97,
   "source": [
    "# set digital output to High level\r\n",
    "dev.digit_write_P2.state = True\r\n",
    "\r\n",
    "# read level on analog port\r\n",
    "print(\"P1 voltage:\", dev.analog_read_P1.volt)\r\n",
    "print(\"P7 voltage:\", dev.analog_read_P7.volt)\r\n",
    "print(\"P8 voltage:\", dev.analog_read_P8.volt)\r\n",
    "print(\"P9 voltage:\", dev.analog_read_P9.volt)\r\n",
    "\r\n",
    "# read level on digital port\r\n",
    "print(\"P5 state:\", dev.digit_read_P5.state)\r\n",
    "print(\"P6 state:\", dev.digit_read_P6.state)"
   ],
   "outputs": [
    {
     "output_type": "stream",
     "name": "stdout",
     "text": [
      "P1 voltage: 1.691\n",
      "P7 voltage: 1.556\n",
      "P8 voltage: 1.691\n",
      "P9 voltage: 1.552\n",
      "P5 state: True\n",
      "P6 state: False\n"
     ]
    }
   ],
   "metadata": {}
  }
 ]
}