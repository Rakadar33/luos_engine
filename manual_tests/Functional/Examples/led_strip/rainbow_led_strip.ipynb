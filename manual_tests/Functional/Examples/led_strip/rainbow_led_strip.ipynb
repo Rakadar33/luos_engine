{
 "cells": [
  {
   "cell_type": "code",
   "execution_count": 1,
   "source": [
    "import numpy as np\n",
    "import time\n",
    "from pyluos import Device\n",
    "from IPython.display import clear_output\n",
    "\n",
    "f = 28.8\n",
    "led_number = 75 #led strip size definition\n",
    "amplitude = 20\n",
    "Fs = led_number * f\n",
    "x = np.arange(led_number)\n",
    "\n",
    "robot = Device('') #usb port\n",
    "print(robot.nodes)"
   ],
   "outputs": [
    {
     "output_type": "stream",
     "name": "stdout",
     "text": [
      "Connected to \"/dev/cu.usbserial-D308N89J\".\n",
      "Sending detection signal.\n",
      "Waiting for routing table...\n",
      "Device setup.\n",
      "  ┏━━━━━━━━━━━━━━━━━━━━━━━━━━━━━━━━━━━━━━━━━━━━━━━━━━┓\n",
      "  ┃  ╭node 1            /!\\ Not certified            ┃\n",
      "  ┃  │  Type                Alias               ID   ┃\n",
      "  ┃  ├> Gate                gate                1    ┃\n",
      "  ┃  ╰> Pipe                Pipe                2    ┃\n",
      "╔>┗━━━━━━━━━━━━━━━━━━━━━━━━━━━━━━━━━━━━━━━━━━━━━━━━━━┛\n",
      "║     ┏━━━━━━━━━━━━━━━━━━━━━━━━━━━━━━━━━━━━━━━━━━━━━━━━━━┓\n",
      "╚══ 0>┃1 ╭node 2            /!\\ Not certified            ┃\n",
      "      ┃  │  Type                Alias               ID   ┃\n",
      "      ┃  ╰> Color               led_strip           3    ┃\n",
      "     >┗━━━━━━━━━━━━━━━━━━━━━━━━━━━━━━━━━━━━━━━━━━━━━━━━━━┛\n",
      "\n"
     ]
    }
   ],
   "metadata": {}
  },
  {
   "cell_type": "code",
   "execution_count": null,
   "source": [
    "#rainbow colors\n",
    "while 1:\n",
    "    r = amplitude + amplitude * np.sin(2 * np.pi * f * x / Fs)\n",
    "    g = amplitude + amplitude * np.sin(2 * np.pi * f * (x + Fs/3) / Fs)\n",
    "    b = amplitude + amplitude * np.sin(2 * np.pi * f * (x + 2*Fs/3) / Fs)\n",
    "\n",
    "    matrix = []\n",
    "\n",
    "    for i in x :\n",
    "        matrix.append(r[i])\n",
    "        matrix.append(g[i])\n",
    "        matrix.append(b[i])\n",
    "\n",
    "    matrix = np.asarray(matrix, dtype=np.uint8)\n",
    "\n",
    "    robot.led_strip.color = matrix\n",
    "    time.sleep(0.05)\n",
    "    x = np.roll(x, 3)"
   ],
   "outputs": [],
   "metadata": {}
  }
 ],
 "metadata": {
  "kernelspec": {
   "display_name": "Python 3",
   "language": "python",
   "name": "python3"
  },
  "language_info": {
   "codemirror_mode": {
    "name": "ipython",
    "version": 3
   },
   "file_extension": ".py",
   "mimetype": "text/x-python",
   "name": "python",
   "nbconvert_exporter": "python",
   "pygments_lexer": "ipython3",
   "version": "3.9.5"
  }
 },
 "nbformat": 4,
 "nbformat_minor": 2
}