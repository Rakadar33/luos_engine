{
 "cells": [
  {
   "cell_type": "code",
   "execution_count": 1,
   "metadata": {
    "scrolled": true
   },
   "outputs": [
    {
     "name": "stdout",
     "output_type": "stream",
     "text": [
      "Connected to \"/dev/cu.usbserial-D308N89J\".\n",
      "Sending detection signal.\n",
      "Waiting for routing table...\n",
      "Device setup.\n",
      "  ┏━━━━━━━━━━━━━━━━━━━━━━━━━━━━━━━━━━━━━━━━━━━━━━━━━━┓\n",
      "  ┃  ╭node 1            /!\\ Not certified            ┃\n",
      "  ┃  │  Type                Alias               ID   ┃\n",
      "  ┃  ├> Gate                gate                1    ┃\n",
      "  ┃  ╰> Pipe                Pipe                2    ┃\n",
      "╔>┗━━━━━━━━━━━━━━━━━━━━━━━━━━━━━━━━━━━━━━━━━━━━━━━━━━┛\n",
      "║     ┏━━━━━━━━━━━━━━━━━━━━━━━━━━━━━━━━━━━━━━━━━━━━━━━━━━┓\n",
      "╚══ 0>┃0 ╭node 2            /!\\ Not certified            ┃\n",
      "      ┃  │  Type                Alias               ID   ┃\n",
      "      ┃  ╰> Color               rgb_led             3    ┃\n",
      "     >┗━━━━━━━━━━━━━━━━━━━━━━━━━━━━━━━━━━━━━━━━━━━━━━━━━━┛\n",
      "\n"
     ]
    }
   ],
   "source": [
    "from IPython.display import clear_output\n",
    "from IPython.display import display\n",
    "import sys\n",
    "import time\n",
    "from pyluos import Device\n",
    "dev = Device('')\n",
    "print(dev.nodes)"
   ]
  },
  {
   "cell_type": "code",
   "execution_count": 2,
   "metadata": {
    "scrolled": true
   },
   "outputs": [],
   "source": [
    "#test sequentially r,g,b\n",
    "dev.rgb_led.color = [0, 0, 0]\n",
    "\n",
    "for x in range(0,256):\n",
    "    dev.rgb_led.color = [x, 0, 0]\n",
    "    time.sleep(0.01)\n",
    "dev.rgb_led.color = [0, 0, 0]\n",
    "\n",
    "for x in range(0,256):\n",
    "    dev.rgb_led.color = [0, x, 0]\n",
    "    time.sleep(0.01)  \n",
    "dev.rgb_led.color = [0, 0, 0]\n",
    "\n",
    "for x in range(0,256):\n",
    "    dev.rgb_led.color = [0, 0, x]\n",
    "    time.sleep(0.01)\n",
    "    "
   ]
  },
  {
   "cell_type": "code",
   "execution_count": null,
   "metadata": {},
   "outputs": [],
   "source": [
    "#disco ball :)\n",
    "for x in range(0,256):\n",
    "    for y in range(0,256):\n",
    "        for z in range(0,256):\n",
    "            dev.rgb_led.color = [x, y, z]\n",
    "            time.sleep(0.001)\n",
    "            dev.rgb_led.color = [y, x, z]\n",
    "            time.sleep(0.001)\n",
    "            dev.rgb_led.color = [z, x, y]\n",
    "            time.sleep(0.001)\n",
    "            dev.rgb_led.color = [x, z, y]\n",
    "            time.sleep(0.001)\n",
    "            dev.rgb_led.color = [z, y, x]\n",
    "            time.sleep(0.001)\n",
    "            dev.rgb_led.color = [y, z, x]\n",
    "            time.sleep(0.001)"
   ]
  },
  {
   "cell_type": "code",
   "execution_count": null,
   "metadata": {},
   "outputs": [],
   "source": []
  }
 ],
 "metadata": {
  "kernelspec": {
   "display_name": "Python 3",
   "language": "python",
   "name": "python3"
  },
  "language_info": {
   "codemirror_mode": {
    "name": "ipython",
    "version": 3
   },
   "file_extension": ".py",
   "mimetype": "text/x-python",
   "name": "python",
   "nbconvert_exporter": "python",
   "pygments_lexer": "ipython3",
   "version": "3.9.5"
  }
 },
 "nbformat": 4,
 "nbformat_minor": 2
}
