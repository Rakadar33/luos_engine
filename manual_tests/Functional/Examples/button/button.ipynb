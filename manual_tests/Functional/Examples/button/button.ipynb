{
 "metadata": {
  "language_info": {
   "codemirror_mode": {
    "name": "ipython",
    "version": 3
   },
   "file_extension": ".py",
   "mimetype": "text/x-python",
   "name": "python",
   "nbconvert_exporter": "python",
   "pygments_lexer": "ipython3",
   "version": "3.9.4"
  },
  "orig_nbformat": 2,
  "kernelspec": {
   "name": "python3",
   "display_name": "Python 3.9.4 64-bit"
  },
  "metadata": {
   "interpreter": {
    "hash": "696f1b3f4ec608302c0ac7d485b61cbe5cb6c2ed50640f9120220e665ff62020"
   }
  },
  "interpreter": {
   "hash": "696f1b3f4ec608302c0ac7d485b61cbe5cb6c2ed50640f9120220e665ff62020"
  }
 },
 "nbformat": 4,
 "nbformat_minor": 2,
 "cells": [
  {
   "cell_type": "code",
   "execution_count": 1,
   "source": [
    "from pyluos import Device\r\n",
    "\r\n",
    "dev = Device(\"COM6\")\r\n",
    "\r\n",
    "print(dev.nodes)"
   ],
   "outputs": [
    {
     "output_type": "stream",
     "name": "stdout",
     "text": [
      "  ┏━━━━━━━━━━━━━━━━━━━━━━━━━━━━━━━━━━━━━━━━━━━━━━━━━━┓\n",
      "  ┃  ╭node 1            /!\\ Not certified            ┃\n",
      "  ┃  │  Type                Alias               ID   ┃\n",
      "  ┃  ├> Gate                gate                1    ┃\n",
      "  ┃  ╰> Pipe                Pipe                2    ┃\n",
      "╔>┗━━━━━━━━━━━━━━━━━━━━━━━━━━━━━━━━━━━━━━━━━━━━━━━━━━┛\n",
      "║     ┏━━━━━━━━━━━━━━━━━━━━━━━━━━━━━━━━━━━━━━━━━━━━━━━━━━┓\n",
      "╚══ 1>┃0 ╭node 2            /!\\ Not certified            ┃\n",
      "      ┃  │  Type                Alias               ID   ┃\n",
      "      ┃  ╰> State               button              3    ┃\n",
      "     >┗━━━━━━━━━━━━━━━━━━━━━━━━━━━━━━━━━━━━━━━━━━━━━━━━━━┛\n",
      "\n"
     ]
    }
   ],
   "metadata": {}
  },
  {
   "cell_type": "code",
   "execution_count": 4,
   "source": [
    "print(dev.button.state)"
   ],
   "outputs": [
    {
     "output_type": "stream",
     "name": "stdout",
     "text": [
      "False\n"
     ]
    }
   ],
   "metadata": {}
  }
 ]
}