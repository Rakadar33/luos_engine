{
 "metadata": {
  "language_info": {
   "codemirror_mode": {
    "name": "ipython",
    "version": 3
   },
   "file_extension": ".py",
   "mimetype": "text/x-python",
   "name": "python",
   "nbconvert_exporter": "python",
   "pygments_lexer": "ipython3",
   "version": "3.9.4"
  },
  "orig_nbformat": 2,
  "kernelspec": {
   "name": "python3",
   "display_name": "Python 3.9.4 64-bit"
  },
  "metadata": {
   "interpreter": {
    "hash": "696f1b3f4ec608302c0ac7d485b61cbe5cb6c2ed50640f9120220e665ff62020"
   }
  },
  "interpreter": {
   "hash": "696f1b3f4ec608302c0ac7d485b61cbe5cb6c2ed50640f9120220e665ff62020"
  }
 },
 "nbformat": 4,
 "nbformat_minor": 2,
 "cells": [
  {
   "cell_type": "code",
   "execution_count": 1,
   "source": [
    "from pyluos import Device\r\n",
    "\r\n",
    "dev = Device(\"COM6\")\r\n",
    "\r\n",
    "print(dev.nodes)"
   ],
   "outputs": [
    {
     "output_type": "stream",
     "name": "stdout",
     "text": [
      "Connected to \"COM6\".\n",
      "Sending detection signal.\n",
      "Waiting for routing table...\n",
      "Device setup.\n",
      "  ┏━━━━━━━━━━━━━━━━━━━━━━━━━━━━━━━━━━━━━━━━━━━━━━━━━━┓\n",
      "  ┃  ╭node 1            /!\\ Not certified            ┃\n",
      "  ┃  │  Type                Alias               ID   ┃\n",
      "  ┃  ├> Gate                gate                1    ┃\n",
      "  ┃  ╰> Pipe                Pipe                2    ┃\n",
      "╔>┗━━━━━━━━━━━━━━━━━━━━━━━━━━━━━━━━━━━━━━━━━━━━━━━━━━┛\n",
      "║     ┏━━━━━━━━━━━━━━━━━━━━━━━━━━━━━━━━━━━━━━━━━━━━━━━━━━┓\n",
      "╚══ 1>┃0 ╭node 2            /!\\ Not certified            ┃\n",
      "      ┃  │  Type                Alias               ID   ┃\n",
      "      ┃  ╰> ControllerMotor     servo_motor         3    ┃\n",
      "     >┗━━━━━━━━━━━━━━━━━━━━━━━━━━━━━━━━━━━━━━━━━━━━━━━━━━┛\n",
      "\n"
     ]
    }
   ],
   "metadata": {}
  },
  {
   "cell_type": "code",
   "execution_count": 2,
   "source": [
    "dev.stepper"
   ],
   "outputs": [
    {
     "output_type": "error",
     "ename": "AttributeError",
     "evalue": "'Device' object has no attribute 'stepper_motor'",
     "traceback": [
      "\u001b[1;31m---------------------------------------------------------------------------\u001b[0m",
      "\u001b[1;31mAttributeError\u001b[0m                            Traceback (most recent call last)",
      "\u001b[1;32m<ipython-input-2-3cbaf48ec01e>\u001b[0m in \u001b[0;36m<module>\u001b[1;34m\u001b[0m\n\u001b[1;32m----> 1\u001b[1;33m \u001b[0mdev\u001b[0m\u001b[1;33m.\u001b[0m\u001b[0mstepper_motor\u001b[0m\u001b[1;33m.\u001b[0m\u001b[0mrot_position_mode\u001b[0m \u001b[1;33m=\u001b[0m \u001b[1;32mTrue\u001b[0m\u001b[1;33m\u001b[0m\u001b[1;33m\u001b[0m\u001b[0m\n\u001b[0m\u001b[0;32m      2\u001b[0m \u001b[0mdev\u001b[0m\u001b[1;33m.\u001b[0m\u001b[0mstepper_motor\u001b[0m\u001b[1;33m.\u001b[0m\u001b[0mcompliant\u001b[0m \u001b[1;33m=\u001b[0m \u001b[1;32mFalse\u001b[0m\u001b[1;33m\u001b[0m\u001b[1;33m\u001b[0m\u001b[0m\n",
      "\u001b[1;31mAttributeError\u001b[0m: 'Device' object has no attribute 'stepper_motor'"
     ]
    }
   ],
   "metadata": {}
  },
  {
   "cell_type": "code",
   "execution_count": 9,
   "source": [
    "dev.stepper_motor.target_rot_position = 720"
   ],
   "outputs": [
    {
     "output_type": "stream",
     "name": "stderr",
     "text": [
      "Exception in thread Thread-4:\n",
      "Traceback (most recent call last):\n",
      "  File \"C:\\Users\\nicol\\AppData\\Local\\Programs\\Python\\Python39\\lib\\threading.py\", line 954, in _bootstrap_inner\n",
      "    self.run()\n",
      "  File \"C:\\Users\\nicol\\AppData\\Local\\Programs\\Python\\Python39\\lib\\threading.py\", line 892, in run\n",
      "    self._target(*self._args, **self._kwargs)\n",
      "  File \"c:\\users\\nicol\\workspace\\02_tools\\pyluos\\pyluos\\io\\serial_io.py\", line 90, in _poll\n",
      "    to_read = self._serial.in_waiting\n",
      "  File \"C:\\Users\\nicol\\AppData\\Local\\Programs\\Python\\Python39\\lib\\site-packages\\serial\\serialwin32.py\", line 259, in in_waiting\n",
      "    raise SerialException(\"ClearCommError failed ({!r})\".format(ctypes.WinError()))\n",
      "serial.serialutil.SerialException: ClearCommError failed (PermissionError(13, 'Accès refusé.', None, 5))\n"
     ]
    }
   ],
   "metadata": {}
  }
 ]
}