{
 "cells": [
  {
   "cell_type": "code",
   "execution_count": 1,
   "metadata": {},
   "outputs": [
    {
     "name": "stdout",
     "output_type": "stream",
     "text": [
      "Connected to \"COM4\".\n",
      "Sending detection signal.\n",
      "Waiting for routing table...\n",
      "Device setup.\n",
      "  ┏━━━━━━━━━━━━━━━━━━━━━━━━━━━━━━━━━━━━━━━━━━━━━━━━━━┓\n",
      "  ┃  ╭node 1            /!\\ Not certified            ┃\n",
      "  ┃  │  Type                Alias               ID   ┃\n",
      "  ┃  ├> Gate                gate                1    ┃\n",
      "  ┃  ╰> Pipe                Pipe                2    ┃\n",
      "╔>┗━━━━━━━━━━━━━━━━━━━━━━━━━━━━━━━━━━━━━━━━━━━━━━━━━━┛\n",
      "║     ┏━━━━━━━━━━━━━━━━━━━━━━━━━━━━━━━━━━━━━━━━━━━━━━━━━━┓\n",
      "╚══ 0>┃1 ╭node 2            /!\\ Not certified            ┃\n",
      "      ┃  │  Type                Alias               ID   ┃\n",
      "      ┃  ╰> Load                load                3    ┃\n",
      "     >┗━━━━━━━━━━━━━━━━━━━━━━━━━━━━━━━━━━━━━━━━━━━━━━━━━━┛\n",
      "\n"
     ]
    }
   ],
   "source": [
    "from pyluos import Device\n",
    "from IPython.display import clear_output\n",
    "import time\n",
    "\n",
    "dev = Device(\"COM4\")\n",
    "\n",
    "print(dev.nodes)"
   ]
  },
  {
   "cell_type": "code",
   "execution_count": null,
   "metadata": {},
   "outputs": [
    {
     "name": "stdout",
     "output_type": "stream",
     "text": [
      "distance ( 1923.0 m) : \n"
     ]
    }
   ],
   "source": [
    "while True :\n",
    "    clear_output(wait=True)\n",
    "    print(\"Force (\",dev.load.load , \"m) : \")\n",
    "    time.sleep(0.5)"
   ]
  },
  {
   "cell_type": "code",
   "execution_count": null,
   "metadata": {},
   "outputs": [],
   "source": []
  }
 ],
 "metadata": {
  "interpreter": {
   "hash": "696f1b3f4ec608302c0ac7d485b61cbe5cb6c2ed50640f9120220e665ff62020"
  },
  "kernelspec": {
   "display_name": "Python 3",
   "language": "python",
   "name": "python3"
  },
  "language_info": {
   "codemirror_mode": {
    "name": "ipython",
    "version": 3
   },
   "file_extension": ".py",
   "mimetype": "text/x-python",
   "name": "python",
   "nbconvert_exporter": "python",
   "pygments_lexer": "ipython3",
   "version": "3.9.1"
  },
  "metadata": {
   "interpreter": {
    "hash": "696f1b3f4ec608302c0ac7d485b61cbe5cb6c2ed50640f9120220e665ff62020"
   }
  }
 },
 "nbformat": 4,
 "nbformat_minor": 2
}
