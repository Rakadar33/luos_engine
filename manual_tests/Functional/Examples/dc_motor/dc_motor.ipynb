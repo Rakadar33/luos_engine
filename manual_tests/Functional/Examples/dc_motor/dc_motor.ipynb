{
 "cells": [
  {
   "cell_type": "code",
   "execution_count": 1,
   "id": "ancient-kinase",
   "metadata": {},
   "outputs": [
    {
     "name": "stdout",
     "output_type": "stream",
     "text": [
      "Connected to \"COM4\".\n",
      "Sending detection signal.\n",
      "Waiting for routing table...\n",
      "Device setup.\n",
      "  ┏━━━━━━━━━━━━━━━━━━━━━━━━━━━━━━━━━━━━━━━━━━━━━━━━━━┓\n",
      "  ┃  ╭node 1            /!\\ Not certified            ┃\n",
      "  ┃  │  Type                Alias               ID   ┃\n",
      "  ┃  ├> Gate                gate                1    ┃\n",
      "  ┃  ╰> Pipe                Pipe                2    ┃\n",
      "╔>┗━━━━━━━━━━━━━━━━━━━━━━━━━━━━━━━━━━━━━━━━━━━━━━━━━━┛\n",
      "║     ┏━━━━━━━━━━━━━━━━━━━━━━━━━━━━━━━━━━━━━━━━━━━━━━━━━━┓\n",
      "╚══ 0>┃0 ╭node 2            /!\\ Not certified            ┃\n",
      "      ┃  │  Type                Alias               ID   ┃\n",
      "      ┃  ├> Motor               DC_motor1           3    ┃\n",
      "      ┃  ╰> Motor               DC_motor2           4    ┃\n",
      "     >┗━━━━━━━━━━━━━━━━━━━━━━━━━━━━━━━━━━━━━━━━━━━━━━━━━━┛\n",
      "\n"
     ]
    }
   ],
   "source": [
    "from pyluos import Device\n",
    "import time\n",
    "\n",
    "dev = Device(\"COM4\")\n",
    "\n",
    "print(dev.nodes)"
   ]
  },
  {
   "cell_type": "code",
   "execution_count": 4,
   "id": "central-shareware",
   "metadata": {},
   "outputs": [],
   "source": [
    "dev.DC_motor1.power_ratio = -70.0\n",
    "time.sleep(3.00)\n",
    "dev.DC_motor1.power_ratio = 60.0\n",
    "time.sleep(3.00)\n",
    "dev.DC_motor1.power_ratio = 0.0\n",
    "dev.DC_motor2.power_ratio = -50.0\n",
    "time.sleep(3.00)\n",
    "dev.DC_motor2.power_ratio = 40.0\n",
    "time.sleep(3.00)\n",
    "dev.DC_motor2.power_ratio = 0.0"
   ]
  },
  {
   "cell_type": "code",
   "execution_count": null,
   "id": "heavy-consent",
   "metadata": {},
   "outputs": [],
   "source": []
  }
 ],
 "metadata": {
  "kernelspec": {
   "display_name": "Python 3",
   "language": "python",
   "name": "python3"
  },
  "language_info": {
   "codemirror_mode": {
    "name": "ipython",
    "version": 3
   },
   "file_extension": ".py",
   "mimetype": "text/x-python",
   "name": "python",
   "nbconvert_exporter": "python",
   "pygments_lexer": "ipython3",
   "version": "3.9.1"
  }
 },
 "nbformat": 4,
 "nbformat_minor": 5
}
