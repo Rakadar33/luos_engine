{
 "cells": [
  {
   "cell_type": "code",
   "execution_count": null,
   "metadata": {},
   "outputs": [],
   "source": [
    "%matplotlib notebook\n",
    "from pyluos import Device\n",
    "from IPython.display import clear_output\n",
    "import time\n",
    "import matplotlib\n",
    "import matplotlib.pyplot as plt\n",
    "import numpy as np\n",
    "from scipy.interpolate import interp1d\n",
    "\n",
    "# 1. Connect your Luos network (here using an USB module for example)\n",
    "r = Device('COM15')\n",
    "print(r.nodes)\n",
    "\n",
    "# 2. Select the module of your network you need to configure\n",
    "module = r.servo_motor\n",
    "\n",
    "# 3. Setup motor module basic settings\n",
    "module.encoder_res = 12\n",
    "module.reduction = 74.83\n",
    "\n",
    "SAMPLERATE = 1.0/module.sampling_freq"
   ]
  },
  {
   "cell_type": "code",
   "execution_count": null,
   "metadata": {},
   "outputs": [],
   "source": [
    "module.rot_speed = False\n",
    "module.rot_position = True\n",
    "module.current = True\n",
    "module.rot_speed_mode = True\n",
    "module.rot_position_mode = False\n",
    "module.compliant = False\n",
    "module.target_rot_speed = 800.0\n",
    "time.sleep(1)\n",
    "module.target_rot_speed = 0.0"
   ]
  },
  {
   "cell_type": "code",
   "execution_count": null,
   "metadata": {},
   "outputs": [],
   "source": [
    "module.positionPid = [30.0, 0.1, 100.0]\n",
    "module.rot_speed = False\n",
    "module.rot_position = True\n",
    "module.current = True\n",
    "module.rot_speed_mode = False\n",
    "module.rot_position_mode = True\n",
    "module.target_rot_position = 0.0\n",
    "module.compliant = False\n",
    "\n",
    "module.sampling_freq = 1.0\n",
    "module.target_rot_position = np.array([90, -90, 90, -90])"
   ]
  },
  {
   "cell_type": "code",
   "execution_count": null,
   "metadata": {},
   "outputs": [],
   "source": [
    "\n",
    "# read position\n",
    "while(True):\n",
    "    clear_output(wait=True)\n",
    "    print(\"\\nmotor (\",r.distance.refresh_freq, \"Hz) : \",\n",
    "        \"\\n\\tdistance : \", r.distance.distance*100, \" cm\"\n",
    "        #\"\\n\\tspeed : \", r.servo_motor.rot_speed\n",
    "            )\n",
    "    time.sleep(0.005)"
   ]
  },
  {
   "cell_type": "code",
   "execution_count": null,
   "metadata": {},
   "outputs": [],
   "source": []
  }
 ],
 "metadata": {
  "interpreter": {
   "hash": "696f1b3f4ec608302c0ac7d485b61cbe5cb6c2ed50640f9120220e665ff62020"
  },
  "kernelspec": {
   "display_name": "Python 3",
   "language": "python",
   "name": "python3"
  },
  "language_info": {
   "codemirror_mode": {
    "name": "ipython",
    "version": 3
   },
   "file_extension": ".py",
   "mimetype": "text/x-python",
   "name": "python",
   "nbconvert_exporter": "python",
   "pygments_lexer": "ipython3",
   "version": "3.9.4"
  },
  "metadata": {
   "interpreter": {
    "hash": "696f1b3f4ec608302c0ac7d485b61cbe5cb6c2ed50640f9120220e665ff62020"
   }
  }
 },
 "nbformat": 4,
 "nbformat_minor": 2
}
